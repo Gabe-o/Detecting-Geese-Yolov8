{
 "cells": [
  {
   "cell_type": "code",
   "execution_count": 1,
   "metadata": {},
   "outputs": [],
   "source": [
    "import os\n",
    "from ultralytics import YOLO"
   ]
  },
  {
   "cell_type": "code",
   "execution_count": 2,
   "metadata": {},
   "outputs": [],
   "source": [
    "# load model\n",
    "model = YOLO('../training/small/runs/detect/train/weights/best.pt')\n",
    "images = './input'\n",
    "output = './output'"
   ]
  },
  {
   "cell_type": "code",
   "execution_count": 3,
   "metadata": {},
   "outputs": [
    {
     "name": "stdout",
     "output_type": "stream",
     "text": [
      "\n",
      "image 1/1 /home/gabeo/Code/SE4442/SE4442-Group-Project/predict_images/input/geese4.jpg: 512x640 2 gooses, 47.7ms\n",
      "Speed: 2.6ms preprocess, 47.7ms inference, 1.3ms postprocess per image at shape (1, 3, 512, 640)\n",
      "\n",
      "image 1/1 /home/gabeo/Code/SE4442/SE4442-Group-Project/predict_images/input/geese1.jpg: 512x640 2 gooses, 47.1ms\n",
      "Speed: 2.1ms preprocess, 47.1ms inference, 1.0ms postprocess per image at shape (1, 3, 512, 640)\n",
      "\n",
      "image 1/1 /home/gabeo/Code/SE4442/SE4442-Group-Project/predict_images/input/geese3.jpg: 512x640 2 gooses, 47.0ms\n",
      "Speed: 2.1ms preprocess, 47.0ms inference, 1.0ms postprocess per image at shape (1, 3, 512, 640)\n",
      "\n",
      "image 1/1 /home/gabeo/Code/SE4442/SE4442-Group-Project/predict_images/input/geese2.jpg: 512x640 1 goose, 47.0ms\n",
      "Speed: 2.1ms preprocess, 47.0ms inference, 1.1ms postprocess per image at shape (1, 3, 512, 640)\n"
     ]
    }
   ],
   "source": [
    "# Get predictions\n",
    "filenames = os.listdir(images)\n",
    "\n",
    "for filename in filenames:\n",
    "    results = model(f'{images}/{filename}')[0]\n",
    "    results.save(filename=f'{output}/{filename}')"
   ]
  }
 ],
 "metadata": {
  "kernelspec": {
   "display_name": "Python 3",
   "language": "python",
   "name": "python3"
  },
  "language_info": {
   "codemirror_mode": {
    "name": "ipython",
    "version": 3
   },
   "file_extension": ".py",
   "mimetype": "text/x-python",
   "name": "python",
   "nbconvert_exporter": "python",
   "pygments_lexer": "ipython3",
   "version": "3.10.12"
  }
 },
 "nbformat": 4,
 "nbformat_minor": 2
}
